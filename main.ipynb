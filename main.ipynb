{
 "cells": [
  {
   "cell_type": "markdown",
   "metadata": {},
   "source": [
    "1.\tIn a Python Notebook load the Json file attached in this email.Done\n"
   ]
  },
  {
   "cell_type": "markdown",
   "metadata": {},
   "source": [
    "2.\tPrint the Json object in correct format in the cell Output."
   ]
  },
  {
   "cell_type": "code",
   "execution_count": 1,
   "metadata": {},
   "outputs": [
    {
     "data": {
      "text/plain": [
       "{'Company': 'Fairwinds Estate Winery',\n",
       " 'HiringCompany': 'Outsourcing International',\n",
       " 'Departments': ['Logistics',\n",
       "  'Sales',\n",
       "  'Marketing',\n",
       "  'Accounting',\n",
       "  'Finance',\n",
       "  'Graphic Design',\n",
       "  'Human Resources',\n",
       "  'Business Intelligence'],\n",
       " 'OpenPositions': [{'Position': 'Warehouse Manager',\n",
       "   'Department': 'Logistics',\n",
       "   'Location': 'Principal Warehouse',\n",
       "   'RequestedBy': 'Logistics Manager'},\n",
       "  {'Position': 'Telesales Representative',\n",
       "   'Department': 'Sales',\n",
       "   'Location': 'Main Call Center',\n",
       "   'Requested by': 'Sales Manager'},\n",
       "  {'Position': 'Marketing Analyst',\n",
       "   'Department': 'Marketing',\n",
       "   'Location': 'Central Office',\n",
       "   'RequestedBy': 'Marketing Chief'},\n",
       "  {'Position': 'Datawarehouse Admin',\n",
       "   'Department': 'BusinessIntelligence',\n",
       "   'Location': 'Central Office',\n",
       "   'RequestedBy': 'Business Intelligence Specialist'},\n",
       "  {'Position': 'Business Analyst',\n",
       "   'Department': 'BusinessIntelligence',\n",
       "   'Location': 'Central Office',\n",
       "   'RequestedBy': 'Business Intelligence Chief'},\n",
       "  {'Position': 'Python Developer',\n",
       "   'Department': 'Business Intelligence',\n",
       "   'Location': 'Avante',\n",
       "   'RequestedBy': 'COO'}]}"
      ]
     },
     "execution_count": 1,
     "metadata": {},
     "output_type": "execute_result"
    }
   ],
   "source": [
    "## Import libraries Json\n",
    "import json\n",
    "with open('PythonDevTestJson.json', 'r') as f:\n",
    "    data = json.load(f)\n",
    "data    "
   ]
  },
  {
   "cell_type": "markdown",
   "metadata": {},
   "source": [
    "3.\tObtain the last nested object inside of the “OpenPositions” key and create a new object with it"
   ]
  },
  {
   "cell_type": "code",
   "execution_count": 3,
   "metadata": {},
   "outputs": [
    {
     "data": {
      "text/plain": [
       "{'Position': 'Python Developer',\n",
       " 'Department': 'Business Intelligence',\n",
       " 'Location': 'Avante',\n",
       " 'RequestedBy': 'COO'}"
      ]
     },
     "execution_count": 3,
     "metadata": {},
     "output_type": "execute_result"
    }
   ],
   "source": [
    "# Obtain the last nested element\n",
    "y = data['OpenPositions'][5]\n",
    "y\n"
   ]
  },
  {
   "cell_type": "markdown",
   "metadata": {},
   "source": [
    "3. Create a new object with 'OpenPositions'"
   ]
  },
  {
   "cell_type": "code",
   "execution_count": 47,
   "metadata": {},
   "outputs": [
    {
     "data": {
      "text/plain": [
       "{'NewObject': [{'Position': 'Python Developer',\n",
       "   'Department': 'Business Intelligence',\n",
       "   'Location': 'Avante',\n",
       "   'RequestedBy': 'COO'}]}"
      ]
     },
     "execution_count": 47,
     "metadata": {},
     "output_type": "execute_result"
    }
   ],
   "source": [
    "NewObject = {'NewObject': [y]}\n",
    "NewObject  \n",
    "     "
   ]
  },
  {
   "cell_type": "code",
   "execution_count": 50,
   "metadata": {},
   "outputs": [],
   "source": [
    "## Create a function that allow you to write in json file\n",
    "\n",
    "def write_json( data , filename = \"PythonDevTestJson.json\"):\n",
    "    with open ( filename , 'w' ) as f :\n",
    "        json.dump ( data , f , indent= 4 )\n",
    "        \n",
    "with open (\"PythonDevTestJson.json\" ) as json_file :\n",
    "    data = json.load(json_file)\n",
    "    temp = data\n",
    "    temp.update(NewObject)\n",
    "write_json(data)"
   ]
  },
  {
   "cell_type": "markdown",
   "metadata": {},
   "source": [
    "4.\tAppend the Company key and value to the new object. Also add the keys “CandidateFirstName” and “CandidateLastName” with your first and last name respectively as values. "
   ]
  },
  {
   "cell_type": "markdown",
   "metadata": {},
   "source": [
    "4. Get company information\n"
   ]
  },
  {
   "cell_type": "code",
   "execution_count": 27,
   "metadata": {},
   "outputs": [
    {
     "data": {
      "text/plain": [
       "'Fairwinds Estate Winery'"
      ]
     },
     "execution_count": 27,
     "metadata": {},
     "output_type": "execute_result"
    }
   ],
   "source": [
    "temp['Company']"
   ]
  },
  {
   "cell_type": "markdown",
   "metadata": {},
   "source": [
    "4. Add the keys “CandidateFirstName” and “CandidateLastName” with your first and last name respectively as values"
   ]
  },
  {
   "cell_type": "code",
   "execution_count": 117,
   "metadata": {},
   "outputs": [
    {
     "name": "stdout",
     "output_type": "stream",
     "text": [
      "<class 'dict'>\n"
     ]
    }
   ],
   "source": [
    "# Create a new function to update the dictionary in json file\n",
    "\n",
    "def write_json_file( data_new_object , filename = \"PythonDevTestJson.json\"):\n",
    "    with open ( filename , 'w' ) as f :\n",
    "        json.dump ( data_new_object , f , indent= 4 )\n",
    "        \n",
    "with open (\"PythonDevTestJson.json\" ) as json_file_company :\n",
    "    data_company = json.load(json_file_company)\n",
    "    data_new_object = data_company['NewObject'][0]\n",
    "    new_info = {\"Company\":\"Fairwinds Estate Winery\", \"CandidateFirstName\":\"Kevin\", \"CandidateLastName\":\"Portillo\"}\n",
    "    print(type(data_new_object))\n",
    "    data_new_object.update(new_info)\n",
    "write_json_file(data_company) \n",
    "     \n",
    "    "
   ]
  },
  {
   "cell_type": "code",
   "execution_count": 59,
   "metadata": {},
   "outputs": [
    {
     "name": "stdout",
     "output_type": "stream",
     "text": [
      "[{'Position': 'Python Developer', 'Department': 'Business Intelligence', 'Location': 'Avante', 'RequestedBy': 'COO', 'Company': 'Fairwinds Estate Winery', 'CandidateFirstName': 'Kevin', 'CandidateLastName': 'Portillo'}, {'Company': 'Fairwinds Estate Winery', 'CandidateFirstName': 'Kevin', 'CandidateLastName': 'Portillo'}]\n"
     ]
    }
   ],
   "source": [
    "# Confirm if the update is successful\n",
    "print(data_company['NewObject']) "
   ]
  },
  {
   "cell_type": "markdown",
   "metadata": {},
   "source": [
    "5.\tCreate a new key called “Relevance” and add a value according to a simple logic rule. In case the Person in the “RequestedBy” key is a C-level executive (CFO, CEO, or starts with C.) assign the value of “Important”, otherwise assign “Normal”."
   ]
  },
  {
   "cell_type": "markdown",
   "metadata": {},
   "source": [
    "Get information about the 'RequestedBy' info in \"OpenPositions\" in order to assign The value \"Important\" or \"Normal\""
   ]
  },
  {
   "cell_type": "code",
   "execution_count": 116,
   "metadata": {},
   "outputs": [],
   "source": [
    "relevance = {\n",
    "    \"Relevance\": \n",
    "            [\n",
    "                {\n",
    "            \"Logistics Manager\" : \"Normal\",\n",
    "            \"Sales Manager\": \"Normal\",\n",
    "            \"Marketing Chief\": \"Normal\",\n",
    "            \"Business Intelligence Specialist\": \"Normal\",\n",
    "            \"Business Intelligence Chief\": \"Normal\",\n",
    "            \"COO\": \"Important\"\n",
    "                }\n",
    "            ]\n",
    "}\n",
    "def write_json_rel( data_rel , filename = \"PythonDevTestJson.json\"):\n",
    "    with open ( filename , 'w' ) as file :\n",
    "        json.dump ( data_rel , file , indent= 4 )\n",
    "\n",
    "with open (\"PythonDevTestJson.json\" ) as json_file_relevance :\n",
    "    data_relevance = json.load(json_file_relevance)\n",
    "    temp_relevance = data_relevance\n",
    "    temp_relevance.update(relevance)\n",
    "write_json_rel(data_relevance)\n",
    "    "
   ]
  },
  {
   "cell_type": "markdown",
   "metadata": {},
   "source": [
    "6.\tDelete the “RequestedBy” key and value pair from the new Json object"
   ]
  },
  {
   "cell_type": "code",
   "execution_count": 150,
   "metadata": {},
   "outputs": [
    {
     "name": "stdout",
     "output_type": "stream",
     "text": [
      "[{'Position': 'Python Developer', 'Department': 'Business Intelligence', 'Location': 'Avante', 'RequestedBy': 'COO', 'Company': 'Fairwinds Estate Winery', 'CandidateFirstName': 'Kevin', 'CandidateLastName': 'Portillo'}]\n"
     ]
    }
   ],
   "source": [
    "data_final=  []\n",
    "with open (\"PythonDevTestJson.json\" ) as json_file_deleted :\n",
    "    data_deleted = json.load(json_file_deleted)\n",
    "    data_final = data_deleted['NewObject']\n",
    "   \n",
    "    \n",
    "    for idx, obj in enumerate(data_final):\n",
    "        if obj[\"RequestedBy\"] == \"COO\":\n",
    "            data_final.pop(idx)\n",
    "    # del data_final['RequestedBy']\n",
    "print(data_final)\n",
    "        \n",
    "\n",
    "\n",
    "# data_final = []\n",
    "\n",
    "# for x in data_deleted:\n",
    "#     if not x[\"\"] in [\"YS-TG100\",\"vSBC One\"]:\n",
    "#         data_final.append(x)\n",
    "\n",
    "# json.dumps(data_final)\n"
   ]
  }
 ],
 "metadata": {
  "kernelspec": {
   "display_name": "Python 3.9.4 64-bit",
   "language": "python",
   "name": "python3"
  },
  "language_info": {
   "codemirror_mode": {
    "name": "ipython",
    "version": 3
   },
   "file_extension": ".py",
   "mimetype": "text/x-python",
   "name": "python",
   "nbconvert_exporter": "python",
   "pygments_lexer": "ipython3",
   "version": "3.9.4"
  },
  "orig_nbformat": 4,
  "vscode": {
   "interpreter": {
    "hash": "4a8810a880f6437f4776ff2f418711cf7f417c0bf1ead931258a913d4cfe6afb"
   }
  }
 },
 "nbformat": 4,
 "nbformat_minor": 2
}
